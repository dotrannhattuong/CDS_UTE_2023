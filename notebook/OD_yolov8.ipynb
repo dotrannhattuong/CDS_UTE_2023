{
  "cells": [
    {
      "cell_type": "code",
      "execution_count": 1,
      "metadata": {
        "colab": {
          "base_uri": "https://localhost:8080/"
        },
        "id": "eTLhTA1WrRyu",
        "outputId": "9090d4f8-9c48-4c6a-e766-048f7a2722ae"
      },
      "outputs": [
        {
          "name": "stdout",
          "output_type": "stream",
          "text": [
            "Mounted at /content/drive\n"
          ]
        }
      ],
      "source": [
        "from google.colab import drive\n",
        "drive.mount('/content/drive')"
      ]
    },
    {
      "cell_type": "markdown",
      "metadata": {
        "id": "lGjs96Qfsno-"
      },
      "source": [
        "###1. Setup"
      ]
    },
    {
      "cell_type": "code",
      "execution_count": null,
      "metadata": {
        "colab": {
          "base_uri": "https://localhost:8080/",
          "height": 1000
        },
        "id": "mP6-mGEosqeR",
        "outputId": "e29b4ecd-4ad4-4d81-baa9-54d3b379857c"
      },
      "outputs": [
        {
          "name": "stderr",
          "output_type": "stream",
          "text": [
            "Ultralytics YOLOv8.0.4 🚀 Python-3.8.16 torch-1.13.1+cu116 CPU\n",
            "Setup complete ✅ (2 CPUs, 12.7 GB RAM, 23.0/107.7 GB disk)\n"
          ]
        }
      ],
      "source": [
        "# Pip install method (recommended)\n",
        "%pip install ultralytics\n",
        "import ultralytics\n",
        "ultralytics.checks()"
      ]
    },
    {
      "cell_type": "code",
      "execution_count": null,
      "metadata": {
        "colab": {
          "base_uri": "https://localhost:8080/"
        },
        "id": "ssrdHxl2s-9W",
        "outputId": "9953a3b8-d698-4f0b-fc84-29453ce9ad9b"
      },
      "outputs": [
        {
          "name": "stdout",
          "output_type": "stream",
          "text": [
            "/content/drive/MyDrive\n",
            "Cloning into 'ultralytics'...\n",
            "remote: Enumerating objects: 2790, done.\u001b[K\n",
            "remote: Counting objects: 100% (441/441), done.\u001b[K\n",
            "remote: Compressing objects: 100% (236/236), done.\u001b[K\n",
            "remote: Total 2790 (delta 229), reused 336 (delta 166), pack-reused 2349\u001b[K\n",
            "Receiving objects: 100% (2790/2790), 2.72 MiB | 6.32 MiB/s, done.\n",
            "Resolving deltas: 100% (1793/1793), done.\n",
            "Checking out files: 100% (154/154), done.\n",
            "  Preparing metadata (setup.py) ... \u001b[?25l\u001b[?25hdone\n"
          ]
        }
      ],
      "source": [
        "%cd /content/drive/MyDrive/UTE_Self_Driving_Car/OD\n",
        "!git clone https://github.com/ultralytics/ultralytics.git\n",
        "%pip install -qe ultralytics"
      ]
    },
    {
      "cell_type": "markdown",
      "metadata": {
        "id": "j3l76PI_sp2f"
      },
      "source": [
        "###2. Prepare custom .yaml file"
      ]
    },
    {
      "cell_type": "code",
      "execution_count": null,
      "metadata": {
        "colab": {
          "base_uri": "https://localhost:8080/"
        },
        "id": "bzfD8YMeybY8",
        "outputId": "bfc022fe-8a68-4411-bc2e-373c30cedc37"
      },
      "outputs": [
        {
          "name": "stdout",
          "output_type": "stream",
          "text": [
            "/content/drive/.shortcut-targets-by-id/1H9IIEJmeELPACGhcCR59DdlG264bHpfz/UTE_Self_Driving_Car/OD/ultralytics/ultralytics/yolo/data\n"
          ]
        }
      ],
      "source": [
        "%cd /content/drive/MyDrive/UTE_Self_Driving_Car/OD/ultralytics/ultralytics/yolo/data\n",
        "!rm datasets/mydataset.yaml # nếu có\n",
        "!echo 'train: /content/drive/MyDrive/UTE_Self_Driving_Car/OD/Data_training/train' >> datasets/mydataset.yaml\n",
        "!echo 'val: /content/drive/MyDrive/UTE_Self_Driving_Car/OD/Data_training/val' >> datasets/mydataset.yaml\n",
        "!echo 'nc: 9' >> datasets/mydataset.yaml\n",
        "!echo \"names: ['no', 'turn_right', 'straight', 'no_turn_left', 'no_turn_right', 'no_straight', 'car', 'unknown', 'turn_left']\" >> datasets/mydataset.yaml"
      ]
    },
    {
      "cell_type": "markdown",
      "metadata": {
        "id": "cll23Rx0ytbI"
      },
      "source": [
        "###3. Training"
      ]
    },
    {
      "cell_type": "markdown",
      "metadata": {
        "id": "wVUgbze1GUE7"
      },
      "source": [
        "#### Frist train\n"
      ]
    },
    {
      "cell_type": "code",
      "execution_count": null,
      "metadata": {
        "id": "XnnKWJOgJm6v"
      },
      "outputs": [],
      "source": [
        "%cd /content/drive/MyDrive/UTE_Self_Driving_Car/OD/ultralytics/ultralytics/yolo\n",
        "!yolo task=detect mode=train model=yolov8n.pt data=mydataset.yaml epochs=300 imgsz=640"
      ]
    },
    {
      "cell_type": "markdown",
      "metadata": {
        "id": "0twsKB3UGX0S"
      },
      "source": [
        "####Resume"
      ]
    },
    {
      "cell_type": "code",
      "execution_count": null,
      "metadata": {
        "id": "8y8qMlRf009H"
      },
      "outputs": [],
      "source": [
        "%cd /content/drive/MyDrive/UTE_Self_Driving_Car/OD/ultralytics/ultralytics/yolo\n",
        "!yolo task=detect mode=train model='/content/drive/MyDrive/UTE_Self_Driving_Car/OD/ultralytics/ultralytics/yolo/runs/detect/train/weights/last.pt' data='/content/drive/MyDrive/UTE_Self_Driving_Car/OD/ultralytics/ultralytics/yolo/data/datasets/mydataset.yaml' epochs=300 imgsz=640 resume=true"
      ]
    },
    {
      "cell_type": "markdown",
      "metadata": {
        "id": "VFzCQallRRbz"
      },
      "source": [
        "###4. Val"
      ]
    },
    {
      "cell_type": "code",
      "execution_count": null,
      "metadata": {
        "colab": {
          "base_uri": "https://localhost:8080/"
        },
        "id": "CNCb4QFgQU-5",
        "outputId": "33b66843-322e-441c-871d-2eef019c03f0"
      },
      "outputs": [
        {
          "name": "stdout",
          "output_type": "stream",
          "text": [
            "/content/drive/.shortcut-targets-by-id/1H9IIEJmeELPACGhcCR59DdlG264bHpfz/UTE_Self_Driving_Car/OD/ultralytics/ultralytics/yolo\n",
            "Ultralytics YOLOv8.0.4 🚀 Python-3.8.16 torch-1.13.1+cu116 CPU\n",
            "Fusing layers... \n",
            "Model summary: 168 layers, 3007403 parameters, 0 gradients, 8.1 GFLOPs\n",
            "Downloading https://ultralytics.com/assets/Arial.ttf to /root/.config/Ultralytics/Arial.ttf...\n",
            "100% 755k/755k [00:00<00:00, 16.8MB/s]\n",
            "\u001b[34m\u001b[1mval: \u001b[0mScanning /content/drive/.shortcut-targets-by-id/1H9IIEJmeELPACGhcCR59DdlG264bHpfz/UTE_Self_Driving_Car/OD/Data_training/val/labels.cache... 1148 images, 0 backgrounds, 0 corrupt: 100% 1148/1148 [00:00<?, ?it/s]\n",
            "/usr/local/lib/python3.8/dist-packages/torch/cuda/__init__.py:497: UserWarning: Can't initialize NVML\n",
            "  warnings.warn(\"Can't initialize NVML\")\n",
            "                 Class     Images  Instances      Box(P          R      mAP50  mAP50-95): 100% 72/72 [03:17<00:00,  2.74s/it]\n",
            "                   all       1148       1278      0.989      0.996      0.993      0.853\n",
            "            turn_right       1148        157      0.997          1      0.995       0.86\n",
            "              straight       1148        132      0.997          1      0.995      0.867\n",
            "          no_turn_left       1148        146      0.983      0.993      0.986      0.876\n",
            "         no_turn_right       1148        162      0.997          1      0.995      0.875\n",
            "           no_straight       1148        149      0.997          1      0.995      0.873\n",
            "                   car       1148        154       0.98      0.994      0.995      0.846\n",
            "               unknown       1148        229      0.966      0.978      0.987      0.796\n",
            "             turn_left       1148        149      0.997          1      0.995      0.833\n",
            "Speed: 1.8ms pre-process, 144.3ms inference, 0.0ms loss, 0.4ms post-process per image\n"
          ]
        }
      ],
      "source": [
        "%cd /content/drive/MyDrive/UTE_Self_Driving_Car/OD/ultralytics/ultralytics/yolo\n",
        "!yolo task=detect mode=val model='/content/drive/MyDrive/UTE_Self_Driving_Car/OD/ultralytics/ultralytics/yolo/runs/detect/train/weights/best.pt' data='/content/drive/MyDrive/ultralytics/ultralytics/yolo/data/datasets/mydataset.yaml'"
      ]
    },
    {
      "cell_type": "markdown",
      "metadata": {
        "id": "e4UsXQPZJnNa"
      },
      "source": [
        "###5. Predict"
      ]
    },
    {
      "cell_type": "code",
      "execution_count": null,
      "metadata": {
        "colab": {
          "base_uri": "https://localhost:8080/"
        },
        "id": "O5fPbe3gJrab",
        "outputId": "d43143ae-3638-4e7f-a3af-04f05c67bc66"
      },
      "outputs": [
        {
          "name": "stdout",
          "output_type": "stream",
          "text": [
            "/content/drive/.shortcut-targets-by-id/1H9IIEJmeELPACGhcCR59DdlG264bHpfz/UTE_Self_Driving_Car/OD/ultralytics/ultralytics/yolo\n",
            "Ultralytics YOLOv8.0.4 🚀 Python-3.8.16 torch-1.13.1+cu116 CPU\n",
            "Fusing layers... \n",
            "Model summary: 168 layers, 3007403 parameters, 0 gradients, 8.1 GFLOPs\n",
            "image 1/11 /content/drive/.shortcut-targets-by-id/1H9IIEJmeELPACGhcCR59DdlG264bHpfz/UTE_Self_Driving_Car/OD/Data_OD/Data_test/1.png: 352x640 1 unknown, 176.7ms\n",
            "image 2/11 /content/drive/.shortcut-targets-by-id/1H9IIEJmeELPACGhcCR59DdlG264bHpfz/UTE_Self_Driving_Car/OD/Data_OD/Data_test/2.png: 352x640 1 no_turn_left, 1 unknown, 154.8ms\n",
            "image 3/11 /content/drive/.shortcut-targets-by-id/1H9IIEJmeELPACGhcCR59DdlG264bHpfz/UTE_Self_Driving_Car/OD/Data_OD/Data_test/3.jpg: 352x640 1 straight, 1 unknown, 138.2ms\n",
            "image 4/11 /content/drive/.shortcut-targets-by-id/1H9IIEJmeELPACGhcCR59DdlG264bHpfz/UTE_Self_Driving_Car/OD/Data_OD/Data_test/314380727_693654192188799_7891759493644395614_n.png: 256x640 1 car, 112.4ms\n",
            "image 5/11 /content/drive/.shortcut-targets-by-id/1H9IIEJmeELPACGhcCR59DdlG264bHpfz/UTE_Self_Driving_Car/OD/Data_OD/Data_test/315871335_872790963918804_8246397738272618714_n.png: 384x640 1 no_turn_right, 1 unknown, 157.1ms\n",
            "image 6/11 /content/drive/.shortcut-targets-by-id/1H9IIEJmeELPACGhcCR59DdlG264bHpfz/UTE_Self_Driving_Car/OD/Data_OD/Data_test/316795018_508866091182965_1158755481414373824_n.png: 320x640 1 car, 1 unknown, 119.2ms\n",
            "image 7/11 /content/drive/.shortcut-targets-by-id/1H9IIEJmeELPACGhcCR59DdlG264bHpfz/UTE_Self_Driving_Car/OD/Data_OD/Data_test/317575438_712404743650055_4267404237756677595_n.png: 544x640 1 car, 1 unknown, 262.8ms\n",
            "image 8/11 /content/drive/.shortcut-targets-by-id/1H9IIEJmeELPACGhcCR59DdlG264bHpfz/UTE_Self_Driving_Car/OD/Data_OD/Data_test/318011570_460872066230326_8730255085084062806_n.png: 384x640 1 no_straight, 1 unknown, 154.8ms\n",
            "image 9/11 /content/drive/.shortcut-targets-by-id/1H9IIEJmeELPACGhcCR59DdlG264bHpfz/UTE_Self_Driving_Car/OD/Data_OD/Data_test/318103593_686395042831949_521221999570699568_n.png: 352x640 1 straight, 2 cars, 2 unknowns, 134.5ms\n",
            "image 10/11 /content/drive/.shortcut-targets-by-id/1H9IIEJmeELPACGhcCR59DdlG264bHpfz/UTE_Self_Driving_Car/OD/Data_OD/Data_test/318221425_676899530780452_1534958651686149804_n.png: 352x640 1 straight, 1 unknown, 145.1ms\n",
            "image 11/11 /content/drive/.shortcut-targets-by-id/1H9IIEJmeELPACGhcCR59DdlG264bHpfz/UTE_Self_Driving_Car/OD/Data_OD/Data_test/image_straight_88.png: 384x640 1 straight, 143.3ms\n",
            "Speed: 1.4ms pre-process, 154.4ms inference, 1.9ms postprocess per image at shape (1, 3, 640, 640)\n",
            "Results saved to \u001b[1mruns/detect/predict2\u001b[0m\n"
          ]
        }
      ],
      "source": [
        "%cd /content/drive/MyDrive/UTE_Self_Driving_Car/OD/ultralytics/ultralytics/yolo\n",
        "!yolo task=detect mode=predict model='/runs/detect/train/weights/best.pt' conf=0.25 source='/content/drive/MyDrive/UTE_Self_Driving_Car/OD/Data_OD/Data_test'"
      ]
    }
  ],
  "metadata": {
    "accelerator": "GPU",
    "colab": {
      "provenance": []
    },
    "gpuClass": "standard",
    "kernelspec": {
      "display_name": "Python 3",
      "language": "python",
      "name": "python3"
    },
    "language_info": {
      "name": "python",
      "version": "3.10.6 (tags/v3.10.6:9c7b4bd, Aug  1 2022, 21:53:49) [MSC v.1932 64 bit (AMD64)]"
    },
    "vscode": {
      "interpreter": {
        "hash": "3bc1a11519d29b3ed6f08646f3ece60640217e649724c6bcfd38e1173c1a1bce"
      }
    }
  },
  "nbformat": 4,
  "nbformat_minor": 0
}
