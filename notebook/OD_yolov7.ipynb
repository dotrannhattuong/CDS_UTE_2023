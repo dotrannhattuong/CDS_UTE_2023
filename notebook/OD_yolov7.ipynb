{
  "nbformat": 4,
  "nbformat_minor": 0,
  "metadata": {
    "colab": {
      "provenance": []
    },
    "kernelspec": {
      "name": "python3",
      "display_name": "Python 3"
    },
    "language_info": {
      "name": "python"
    }
  },
  "cells": [
    {
      "cell_type": "code",
      "source": [
        "from google.colab import drive\n",
        "drive.mount('/content/drive')"
      ],
      "metadata": {
        "id": "2bV2OSVjV78o"
      },
      "execution_count": null,
      "outputs": []
    },
    {
      "cell_type": "markdown",
      "source": [
        "# 1. Clone yolov7 \n"
      ],
      "metadata": {
        "id": "NuDm2VbIaVrO"
      }
    },
    {
      "cell_type": "code",
      "source": [
        "# Clone source code YOLOv7 về thư mục OD_train   \n",
        "%cd /content/drive/MyDrive/OD_train\n",
        "!git clone https://github.com/augmentedstartups/yolov7.git"
      ],
      "metadata": {
        "id": "vj9nUcDuYQWy"
      },
      "execution_count": null,
      "outputs": []
    },
    {
      "cell_type": "markdown",
      "source": [
        "#2. Download required packages"
      ],
      "metadata": {
        "id": "kMYQ_2R-b2cW"
      }
    },
    {
      "cell_type": "code",
      "source": [
        "# Cài đặt các thư viện cần thiết để train YOLOv7\n",
        "%cd /content/drive/MyDrive/OD_train/yolov7\n",
        "!pip install -r requirements.txt"
      ],
      "metadata": {
        "id": "Tl7A5JqWYY8u"
      },
      "execution_count": null,
      "outputs": []
    },
    {
      "cell_type": "markdown",
      "source": [
        "#3. Download pretrained model"
      ],
      "metadata": {
        "id": "hbhlbfqgb-3P"
      }
    },
    {
      "cell_type": "code",
      "source": [
        "# Tải weight pretrain \n",
        "%cd /content/drive/MyDrive/OD_train/yolov7\n",
        "!mkdir pretrain\n",
        "%cd pretrain\n",
        "!rm yolov7.pt\n",
        "!wget https://github.com/WongKinYiu/yolov7/releases/download/v0.1/yolov7.pt"
      ],
      "metadata": {
        "id": "THEnOKuScFhP"
      },
      "execution_count": null,
      "outputs": []
    },
    {
      "cell_type": "markdown",
      "source": [
        "#4. Prepare dataset"
      ],
      "metadata": {
        "id": "5JIOWugXfZz3"
      }
    },
    {
      "cell_type": "markdown",
      "source": [
        "### Clone soucre Data"
      ],
      "metadata": {
        "id": "O-c_AvZcitTs"
      }
    },
    {
      "cell_type": "code",
      "source": [
        "# Clone source Data về thư mục OD_train   \n",
        "%cd /content/drive/MyDrive/OD_train\n",
        "!git clone https://github.com/dotrannhattuong/Dataset_OD_SelfDrivingCar"
      ],
      "metadata": {
        "id": "mPASyZcSYUhJ"
      },
      "execution_count": null,
      "outputs": []
    },
    {
      "cell_type": "markdown",
      "source": [
        "### Visualize Data"
      ],
      "metadata": {
        "id": "5knwhSOEf80F"
      }
    },
    {
      "cell_type": "code",
      "source": [
        "from sklearn.model_selection import train_test_split\n",
        "import glob\n",
        "import os\n",
        "from shutil import copyfile"
      ],
      "metadata": {
        "id": "TVhWTRZUgeha"
      },
      "execution_count": null,
      "outputs": []
    },
    {
      "cell_type": "code",
      "source": [
        "import altair as alt\n",
        "import pandas as pd\n",
        "import numpy as np"
      ],
      "metadata": {
        "id": "uKG7T3Sqf6l9"
      },
      "execution_count": null,
      "outputs": []
    },
    {
      "cell_type": "code",
      "source": [
        "lst = []\n",
        "for file in glob.glob('/content/drive/MyDrive/OD_train/Dataset_OD_SelfDrivingCar/yolo_data_detect/train/labels/*.txt'):\n",
        "  df = pd.read_csv(file, sep=\" \", header=None, names=['class', 'x', 'y', 'w', 'h'])\n",
        "  lst.append(df)\n",
        "signs = pd.concat(lst)\n",
        "print(signs)"
      ],
      "metadata": {
        "colab": {
          "base_uri": "https://localhost:8080/"
        },
        "id": "WMwX4XiTgTkh",
        "outputId": "31feb27e-8c84-4a58-c243-5612964ccc65"
      },
      "execution_count": null,
      "outputs": [
        {
          "output_type": "stream",
          "name": "stdout",
          "text": [
            "    class         x         y         w         h\n",
            "0       1  0.316406  0.290278  0.039062  0.063889\n",
            "0       1  0.331250  0.291667  0.034375  0.055556\n",
            "0       1  0.334375  0.290278  0.031250  0.052778\n",
            "0       1  0.335938  0.294444  0.031250  0.055556\n",
            "0       1  0.337500  0.294444  0.031250  0.055556\n",
            "..    ...       ...       ...       ...       ...\n",
            "0       6  0.551562  0.430556  0.090625  0.100000\n",
            "0       6  0.552344  0.429167  0.089063  0.102778\n",
            "0       6  0.550781  0.433333  0.085938  0.094444\n",
            "0       6  0.550781  0.431944  0.085938  0.102778\n",
            "0       6  0.552344  0.434722  0.079687  0.097222\n",
            "\n",
            "[3703 rows x 5 columns]\n"
          ]
        }
      ]
    },
    {
      "cell_type": "code",
      "source": [
        "data = pd.DataFrame()\n",
        "data['counts'] = signs['class'].value_counts()\n",
        "data.index = ['turn_right', 'straight', 'no_turn_left', 'no_turn_right', 'no_straight', 'car', 'unknown', 'turn_left']\n",
        "data['title'] = data.index\n",
        "print(data)"
      ],
      "metadata": {
        "id": "WOOEvzI_jNyd",
        "colab": {
          "base_uri": "https://localhost:8080/"
        },
        "outputId": "4dd1f442-5d16-47bb-bba0-bfce115dd622"
      },
      "execution_count": null,
      "outputs": [
        {
          "output_type": "stream",
          "name": "stdout",
          "text": [
            "               counts          title\n",
            "turn_right        644     turn_right\n",
            "straight          539       straight\n",
            "no_turn_left      498   no_turn_left\n",
            "no_turn_right     486  no_turn_right\n",
            "no_straight       454    no_straight\n",
            "car               366            car\n",
            "unknown           363        unknown\n",
            "turn_left         353      turn_left\n"
          ]
        }
      ]
    },
    {
      "cell_type": "code",
      "source": [
        "alt.Chart(data).mark_bar().encode(\n",
        "    x=alt.X('counts', axis=alt.Axis(title='Counts')),\n",
        "    y=alt.Y('title',\n",
        "        sort=alt.EncodingSortField(field='counts', order='ascending', op='sum'),\n",
        "        axis=alt.Axis(title='Title')\n",
        "    ),\n",
        "    color=alt.Color('title:N')\n",
        ")"
      ],
      "metadata": {
        "id": "AQ1d6zl4gCLs",
        "colab": {
          "base_uri": "https://localhost:8080/",
          "height": 223
        },
        "outputId": "35bb8392-9b45-4fc7-a450-df4f7c8f1f23"
      },
      "execution_count": null,
      "outputs": [
        {
          "output_type": "execute_result",
          "data": {
            "text/html": [
              "\n",
              "<div id=\"altair-viz-8242b535d076463da4b0326eb80ec349\"></div>\n",
              "<script type=\"text/javascript\">\n",
              "  var VEGA_DEBUG = (typeof VEGA_DEBUG == \"undefined\") ? {} : VEGA_DEBUG;\n",
              "  (function(spec, embedOpt){\n",
              "    let outputDiv = document.currentScript.previousElementSibling;\n",
              "    if (outputDiv.id !== \"altair-viz-8242b535d076463da4b0326eb80ec349\") {\n",
              "      outputDiv = document.getElementById(\"altair-viz-8242b535d076463da4b0326eb80ec349\");\n",
              "    }\n",
              "    const paths = {\n",
              "      \"vega\": \"https://cdn.jsdelivr.net/npm//vega@5?noext\",\n",
              "      \"vega-lib\": \"https://cdn.jsdelivr.net/npm//vega-lib?noext\",\n",
              "      \"vega-lite\": \"https://cdn.jsdelivr.net/npm//vega-lite@4.17.0?noext\",\n",
              "      \"vega-embed\": \"https://cdn.jsdelivr.net/npm//vega-embed@6?noext\",\n",
              "    };\n",
              "\n",
              "    function maybeLoadScript(lib, version) {\n",
              "      var key = `${lib.replace(\"-\", \"\")}_version`;\n",
              "      return (VEGA_DEBUG[key] == version) ?\n",
              "        Promise.resolve(paths[lib]) :\n",
              "        new Promise(function(resolve, reject) {\n",
              "          var s = document.createElement('script');\n",
              "          document.getElementsByTagName(\"head\")[0].appendChild(s);\n",
              "          s.async = true;\n",
              "          s.onload = () => {\n",
              "            VEGA_DEBUG[key] = version;\n",
              "            return resolve(paths[lib]);\n",
              "          };\n",
              "          s.onerror = () => reject(`Error loading script: ${paths[lib]}`);\n",
              "          s.src = paths[lib];\n",
              "        });\n",
              "    }\n",
              "\n",
              "    function showError(err) {\n",
              "      outputDiv.innerHTML = `<div class=\"error\" style=\"color:red;\">${err}</div>`;\n",
              "      throw err;\n",
              "    }\n",
              "\n",
              "    function displayChart(vegaEmbed) {\n",
              "      vegaEmbed(outputDiv, spec, embedOpt)\n",
              "        .catch(err => showError(`Javascript Error: ${err.message}<br>This usually means there's a typo in your chart specification. See the javascript console for the full traceback.`));\n",
              "    }\n",
              "\n",
              "    if(typeof define === \"function\" && define.amd) {\n",
              "      requirejs.config({paths});\n",
              "      require([\"vega-embed\"], displayChart, err => showError(`Error loading script: ${err.message}`));\n",
              "    } else {\n",
              "      maybeLoadScript(\"vega\", \"5\")\n",
              "        .then(() => maybeLoadScript(\"vega-lite\", \"4.17.0\"))\n",
              "        .then(() => maybeLoadScript(\"vega-embed\", \"6\"))\n",
              "        .catch(showError)\n",
              "        .then(() => displayChart(vegaEmbed));\n",
              "    }\n",
              "  })({\"config\": {\"view\": {\"continuousWidth\": 400, \"continuousHeight\": 300}}, \"data\": {\"name\": \"data-200af707515c7f7f5617a8e6c07a8072\"}, \"mark\": \"bar\", \"encoding\": {\"color\": {\"field\": \"title\", \"type\": \"nominal\"}, \"x\": {\"axis\": {\"title\": \"Counts\"}, \"field\": \"counts\", \"type\": \"quantitative\"}, \"y\": {\"axis\": {\"title\": \"Title\"}, \"field\": \"title\", \"sort\": {\"field\": \"counts\", \"op\": \"sum\", \"order\": \"ascending\"}, \"type\": \"nominal\"}}, \"$schema\": \"https://vega.github.io/schema/vega-lite/v4.17.0.json\", \"datasets\": {\"data-200af707515c7f7f5617a8e6c07a8072\": [{\"counts\": 644, \"title\": \"turn_right\"}, {\"counts\": 539, \"title\": \"straight\"}, {\"counts\": 498, \"title\": \"no_turn_left\"}, {\"counts\": 486, \"title\": \"no_turn_right\"}, {\"counts\": 454, \"title\": \"no_straight\"}, {\"counts\": 366, \"title\": \"car\"}, {\"counts\": 363, \"title\": \"unknown\"}, {\"counts\": 353, \"title\": \"turn_left\"}]}}, {\"mode\": \"vega-lite\"});\n",
              "</script>"
            ],
            "text/plain": [
              "alt.Chart(...)"
            ]
          },
          "metadata": {},
          "execution_count": 24
        }
      ]
    },
    {
      "cell_type": "markdown",
      "source": [
        "#5. Prepare custom .yaml file\n"
      ],
      "metadata": {
        "id": "cENXR4B9ceXi"
      }
    },
    {
      "cell_type": "code",
      "source": [
        "# Khai báo 1 file yaml để YOLOv7 biết:\n",
        "# - Đường dẫn đến thư mục train, test (nếu có, nếu không thì dùng luôn đường dẫn đến train)\n",
        "# - Số lượng class qua biến nc (number of class)\n",
        "# - Tên của các class\n",
        "%cd /content/drive/MyDrive/OD_train/yolov7\n",
        "!rm data/mydataset.yaml # nếu có\n",
        "!echo 'train: /content/drive/MyDrive/OD_train/Dataset_OD_SelfDrivingCar/yolo_data_detect/train' >> data/mydataset.yaml\n",
        "!echo 'val: /content/drive/MyDrive/OD_train/Dataset_OD_SelfDrivingCar/yolo_data_detect/train' >> data/mydataset.yaml\n",
        "!echo 'nc: 9' >> data/mydataset.yaml\n",
        "!echo \"names: ['no', 'turn_right', 'straight', 'no_turn_left', 'no_turn_right', 'no_straight', 'car', 'unknown', 'turn_left']\" >> data/mydataset.yaml"
      ],
      "metadata": {
        "id": "2C3zTAz_Yeby"
      },
      "execution_count": null,
      "outputs": []
    },
    {
      "cell_type": "markdown",
      "source": [
        "# 6. Train"
      ],
      "metadata": {
        "id": "HwdzsfvxdSzF"
      }
    },
    {
      "cell_type": "markdown",
      "source": [
        "### First Training"
      ],
      "metadata": {
        "id": "TIKyoPgedrlQ"
      }
    },
    {
      "cell_type": "code",
      "source": [
        "# Train model YOLOv7 với dữ liệu OD\n",
        "%cd /content/drive/MyDrive/CD_train/yolov7\n",
        "!python train.py --batch 16 --cfg cfg/training/yolov7.yaml --epochs 500 --data data/mydataset.yaml --weights 'pretrain/yolov7.pt' --hyp data/hyp.scratch.p5.yaml"
      ],
      "metadata": {
        "id": "TnW0eYbvYfl6"
      },
      "execution_count": null,
      "outputs": []
    },
    {
      "cell_type": "markdown",
      "source": [
        "### Resume "
      ],
      "metadata": {
        "id": "jMkGwfg6d4WF"
      }
    },
    {
      "cell_type": "code",
      "source": [
        "%cd /content/drive/MyDrive/CD_train/yolov7\n",
        "\n",
        "!python train.py --resume /content/drive/MyDrive/UTE2023/train/exp1/weights/last.pt --cache"
      ],
      "metadata": {
        "id": "U7Ae-847eC0x"
      },
      "execution_count": null,
      "outputs": []
    },
    {
      "cell_type": "markdown",
      "source": [
        "#7. Inference"
      ],
      "metadata": {
        "id": "2vRyd52mejgR"
      }
    },
    {
      "cell_type": "code",
      "source": [
        "#Nhận diện thử với weights vừa train\n",
        "%cd /content/drive/MyDrive/OD_train/yolov7\n",
        "!python detect.py --weights /content/drive/MyDrive/OD_train/exp2/weights/best.pt --source /content/drive/MyDrive/OD_train/test"
      ],
      "metadata": {
        "id": "iHAOgbuwSAUn"
      },
      "execution_count": null,
      "outputs": []
    },
    {
      "cell_type": "code",
      "source": [
        "# Xem ảnh đã nhận diện\n",
        "from IPython.display import Image, display\n",
        "display(Image(filename=\"/content/drive/MyDrive/OD_train/yolov7/runs/detect/exp\"))"
      ],
      "metadata": {
        "id": "Tc97HVbOfGWg"
      },
      "execution_count": null,
      "outputs": []
    }
  ]
}