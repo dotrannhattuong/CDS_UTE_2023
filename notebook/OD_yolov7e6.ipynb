{
  "cells": [
    {
      "cell_type": "code",
      "execution_count": null,
      "metadata": {
        "id": "2bV2OSVjV78o"
      },
      "outputs": [],
      "source": [
        "from google.colab import drive\n",
        "drive.mount('/content/drive')"
      ]
    },
    {
      "cell_type": "markdown",
      "metadata": {
        "id": "NuDm2VbIaVrO"
      },
      "source": [
        "# 1. Clone yolov7 \n"
      ]
    },
    {
      "cell_type": "code",
      "execution_count": null,
      "metadata": {
        "id": "vj9nUcDuYQWy"
      },
      "outputs": [],
      "source": [
        "# Clone source code YOLOv7 về thư mục OD_train   \n",
        "%cd /content/drive/MyDrive/OD_train\n",
        "!git clone https://github.com/augmentedstartups/yolov7.git"
      ]
    },
    {
      "cell_type": "markdown",
      "metadata": {
        "id": "kMYQ_2R-b2cW"
      },
      "source": [
        "#2. Download required packages"
      ]
    },
    {
      "cell_type": "code",
      "execution_count": null,
      "metadata": {
        "id": "Tl7A5JqWYY8u"
      },
      "outputs": [],
      "source": [
        "# Cài đặt các thư viện cần thiết để train YOLOv7\n",
        "%cd /content/drive/MyDrive/OD_train/yolov7\n",
        "!pip install -r requirements.txt"
      ]
    },
    {
      "cell_type": "markdown",
      "metadata": {
        "id": "hbhlbfqgb-3P"
      },
      "source": [
        "#3. Download pretrained model"
      ]
    },
    {
      "cell_type": "code",
      "execution_count": null,
      "metadata": {
        "id": "THEnOKuScFhP"
      },
      "outputs": [],
      "source": [
        "# Tải weight pretrain \n",
        "%cd /content/drive/MyDrive/OD_train/yolov7\n",
        "!mkdir pretrain\n",
        "%cd pretrain\n",
        "!rm yolov7-e6.pt\n",
        "!wget https://github.com/WongKinYiu/yolov7/releases/download/v0.1/yolov7-e6.pt"
      ]
    },
    {
      "cell_type": "markdown",
      "metadata": {
        "id": "5JIOWugXfZz3"
      },
      "source": [
        "#4. Prepare dataset"
      ]
    },
    {
      "cell_type": "markdown",
      "metadata": {
        "id": "O-c_AvZcitTs"
      },
      "source": [
        "### Clone soucre Data"
      ]
    },
    {
      "cell_type": "code",
      "execution_count": null,
      "metadata": {
        "id": "mPASyZcSYUhJ"
      },
      "outputs": [],
      "source": [
        "# Clone source Data về thư mục OD_train   \n",
        "%cd /content/drive/MyDrive/OD_train\n",
        "!git clone https://github.com/dotrannhattuong/Dataset_OD_SelfDrivingCar"
      ]
    },
    {
      "cell_type": "markdown",
      "metadata": {
        "id": "5knwhSOEf80F"
      },
      "source": [
        "### Visualize Data"
      ]
    },
    {
      "cell_type": "code",
      "execution_count": null,
      "metadata": {
        "id": "TVhWTRZUgeha"
      },
      "outputs": [],
      "source": [
        "from sklearn.model_selection import train_test_split\n",
        "import glob\n",
        "import os\n",
        "from shutil import copyfile"
      ]
    },
    {
      "cell_type": "code",
      "execution_count": null,
      "metadata": {
        "id": "uKG7T3Sqf6l9"
      },
      "outputs": [],
      "source": [
        "import altair as alt\n",
        "import pandas as pd\n",
        "import numpy as np"
      ]
    },
    {
      "cell_type": "code",
      "execution_count": null,
      "metadata": {
        "colab": {
          "base_uri": "https://localhost:8080/"
        },
        "id": "WMwX4XiTgTkh",
        "outputId": "31feb27e-8c84-4a58-c243-5612964ccc65"
      },
      "outputs": [
        {
          "name": "stdout",
          "output_type": "stream",
          "text": [
            "    class         x         y         w         h\n",
            "0       1  0.316406  0.290278  0.039062  0.063889\n",
            "0       1  0.331250  0.291667  0.034375  0.055556\n",
            "0       1  0.334375  0.290278  0.031250  0.052778\n",
            "0       1  0.335938  0.294444  0.031250  0.055556\n",
            "0       1  0.337500  0.294444  0.031250  0.055556\n",
            "..    ...       ...       ...       ...       ...\n",
            "0       6  0.551562  0.430556  0.090625  0.100000\n",
            "0       6  0.552344  0.429167  0.089063  0.102778\n",
            "0       6  0.550781  0.433333  0.085938  0.094444\n",
            "0       6  0.550781  0.431944  0.085938  0.102778\n",
            "0       6  0.552344  0.434722  0.079687  0.097222\n",
            "\n",
            "[3703 rows x 5 columns]\n"
          ]
        }
      ],
      "source": [
        "lst = []\n",
        "for file in glob.glob('/content/drive/MyDrive/OD_train/Dataset_OD_SelfDrivingCar/yolo_data_detect/train/labels/*.txt'):\n",
        "  df = pd.read_csv(file, sep=\" \", header=None, names=['class', 'x', 'y', 'w', 'h'])\n",
        "  lst.append(df)\n",
        "signs = pd.concat(lst)\n",
        "print(signs)"
      ]
    },
    {
      "cell_type": "code",
      "execution_count": null,
      "metadata": {
        "colab": {
          "base_uri": "https://localhost:8080/"
        },
        "id": "WOOEvzI_jNyd",
        "outputId": "4dd1f442-5d16-47bb-bba0-bfce115dd622"
      },
      "outputs": [
        {
          "name": "stdout",
          "output_type": "stream",
          "text": [
            "               counts          title\n",
            "turn_right        644     turn_right\n",
            "straight          539       straight\n",
            "no_turn_left      498   no_turn_left\n",
            "no_turn_right     486  no_turn_right\n",
            "no_straight       454    no_straight\n",
            "car               366            car\n",
            "unknown           363        unknown\n",
            "turn_left         353      turn_left\n"
          ]
        }
      ],
      "source": [
        "data = pd.DataFrame()\n",
        "data['counts'] = signs['class'].value_counts()\n",
        "data.index = ['turn_right', 'straight', 'no_turn_left', 'no_turn_right', 'no_straight', 'car', 'unknown', 'turn_left']\n",
        "data['title'] = data.index\n",
        "print(data)"
      ]
    },
    {
      "cell_type": "code",
      "execution_count": null,
      "metadata": {
        "colab": {
          "base_uri": "https://localhost:8080/",
          "height": 223
        },
        "id": "AQ1d6zl4gCLs",
        "outputId": "35bb8392-9b45-4fc7-a450-df4f7c8f1f23"
      },
      "outputs": [
        {
          "data": {
            "text/html": [
              "\n",
              "<div id=\"altair-viz-8242b535d076463da4b0326eb80ec349\"></div>\n",
              "<script type=\"text/javascript\">\n",
              "  var VEGA_DEBUG = (typeof VEGA_DEBUG == \"undefined\") ? {} : VEGA_DEBUG;\n",
              "  (function(spec, embedOpt){\n",
              "    let outputDiv = document.currentScript.previousElementSibling;\n",
              "    if (outputDiv.id !== \"altair-viz-8242b535d076463da4b0326eb80ec349\") {\n",
              "      outputDiv = document.getElementById(\"altair-viz-8242b535d076463da4b0326eb80ec349\");\n",
              "    }\n",
              "    const paths = {\n",
              "      \"vega\": \"https://cdn.jsdelivr.net/npm//vega@5?noext\",\n",
              "      \"vega-lib\": \"https://cdn.jsdelivr.net/npm//vega-lib?noext\",\n",
              "      \"vega-lite\": \"https://cdn.jsdelivr.net/npm//vega-lite@4.17.0?noext\",\n",
              "      \"vega-embed\": \"https://cdn.jsdelivr.net/npm//vega-embed@6?noext\",\n",
              "    };\n",
              "\n",
              "    function maybeLoadScript(lib, version) {\n",
              "      var key = `${lib.replace(\"-\", \"\")}_version`;\n",
              "      return (VEGA_DEBUG[key] == version) ?\n",
              "        Promise.resolve(paths[lib]) :\n",
              "        new Promise(function(resolve, reject) {\n",
              "          var s = document.createElement('script');\n",
              "          document.getElementsByTagName(\"head\")[0].appendChild(s);\n",
              "          s.async = true;\n",
              "          s.onload = () => {\n",
              "            VEGA_DEBUG[key] = version;\n",
              "            return resolve(paths[lib]);\n",
              "          };\n",
              "          s.onerror = () => reject(`Error loading script: ${paths[lib]}`);\n",
              "          s.src = paths[lib];\n",
              "        });\n",
              "    }\n",
              "\n",
              "    function showError(err) {\n",
              "      outputDiv.innerHTML = `<div class=\"error\" style=\"color:red;\">${err}</div>`;\n",
              "      throw err;\n",
              "    }\n",
              "\n",
              "    function displayChart(vegaEmbed) {\n",
              "      vegaEmbed(outputDiv, spec, embedOpt)\n",
              "        .catch(err => showError(`Javascript Error: ${err.message}<br>This usually means there's a typo in your chart specification. See the javascript console for the full traceback.`));\n",
              "    }\n",
              "\n",
              "    if(typeof define === \"function\" && define.amd) {\n",
              "      requirejs.config({paths});\n",
              "      require([\"vega-embed\"], displayChart, err => showError(`Error loading script: ${err.message}`));\n",
              "    } else {\n",
              "      maybeLoadScript(\"vega\", \"5\")\n",
              "        .then(() => maybeLoadScript(\"vega-lite\", \"4.17.0\"))\n",
              "        .then(() => maybeLoadScript(\"vega-embed\", \"6\"))\n",
              "        .catch(showError)\n",
              "        .then(() => displayChart(vegaEmbed));\n",
              "    }\n",
              "  })({\"config\": {\"view\": {\"continuousWidth\": 400, \"continuousHeight\": 300}}, \"data\": {\"name\": \"data-200af707515c7f7f5617a8e6c07a8072\"}, \"mark\": \"bar\", \"encoding\": {\"color\": {\"field\": \"title\", \"type\": \"nominal\"}, \"x\": {\"axis\": {\"title\": \"Counts\"}, \"field\": \"counts\", \"type\": \"quantitative\"}, \"y\": {\"axis\": {\"title\": \"Title\"}, \"field\": \"title\", \"sort\": {\"field\": \"counts\", \"op\": \"sum\", \"order\": \"ascending\"}, \"type\": \"nominal\"}}, \"$schema\": \"https://vega.github.io/schema/vega-lite/v4.17.0.json\", \"datasets\": {\"data-200af707515c7f7f5617a8e6c07a8072\": [{\"counts\": 644, \"title\": \"turn_right\"}, {\"counts\": 539, \"title\": \"straight\"}, {\"counts\": 498, \"title\": \"no_turn_left\"}, {\"counts\": 486, \"title\": \"no_turn_right\"}, {\"counts\": 454, \"title\": \"no_straight\"}, {\"counts\": 366, \"title\": \"car\"}, {\"counts\": 363, \"title\": \"unknown\"}, {\"counts\": 353, \"title\": \"turn_left\"}]}}, {\"mode\": \"vega-lite\"});\n",
              "</script>"
            ],
            "text/plain": [
              "alt.Chart(...)"
            ]
          },
          "execution_count": 24,
          "metadata": {},
          "output_type": "execute_result"
        }
      ],
      "source": [
        "alt.Chart(data).mark_bar().encode(\n",
        "    x=alt.X('counts', axis=alt.Axis(title='Counts')),\n",
        "    y=alt.Y('title',\n",
        "        sort=alt.EncodingSortField(field='counts', order='ascending', op='sum'),\n",
        "        axis=alt.Axis(title='Title')\n",
        "    ),\n",
        "    color=alt.Color('title:N')\n",
        ")"
      ]
    },
    {
      "cell_type": "markdown",
      "metadata": {
        "id": "cENXR4B9ceXi"
      },
      "source": [
        "#5. Prepare custom .yaml file\n"
      ]
    },
    {
      "cell_type": "code",
      "execution_count": null,
      "metadata": {
        "id": "2C3zTAz_Yeby"
      },
      "outputs": [],
      "source": [
        "# Khai báo 1 file yaml để YOLOv7 biết:\n",
        "# - Đường dẫn đến thư mục train, test (nếu có, nếu không thì dùng luôn đường dẫn đến train)\n",
        "# - Số lượng class qua biến nc (number of class)\n",
        "# - Tên của các class\n",
        "%cd /content/drive/MyDrive/OD_train/yolov7\n",
        "!rm data/mydataset.yaml # nếu có\n",
        "!echo 'train: /content/drive/MyDrive/OD_train/Dataset_OD_SelfDrivingCar/yolo_data_detect/train' >> data/mydataset.yaml\n",
        "!echo 'val: /content/drive/MyDrive/OD_train/Dataset_OD_SelfDrivingCar/yolo_data_detect/val' >> data/mydataset.yaml\n",
        "!echo 'nc: 9' >> data/mydataset.yaml\n",
        "!echo \"names: ['no', 'turn_right', 'straight', 'no_turn_left', 'no_turn_right', 'no_straight', 'car', 'unknown', 'turn_left']\" >> data/mydataset.yaml"
      ]
    },
    {
      "cell_type": "markdown",
      "metadata": {
        "id": "HwdzsfvxdSzF"
      },
      "source": [
        "# 6. Train"
      ]
    },
    {
      "cell_type": "markdown",
      "metadata": {
        "id": "TIKyoPgedrlQ"
      },
      "source": [
        "### First Training"
      ]
    },
    {
      "cell_type": "code",
      "execution_count": null,
      "metadata": {
        "id": "TnW0eYbvYfl6"
      },
      "outputs": [],
      "source": [
        "# Train model YOLOv7 với dữ liệu OD\n",
        "%cd /content/drive/MyDrive/CD_train/yolov7\n",
        "!python train_aux.py --batch 16 --cfg cfg/training/yolov7-e6.yaml --epochs 500 --data data/mydataset.yaml --weights 'pretrain/yolov7-e6.pt' --hyp data/hyp.scratch.p5.yaml"
      ]
    },
    {
      "cell_type": "markdown",
      "metadata": {
        "id": "jMkGwfg6d4WF"
      },
      "source": [
        "### Resume "
      ]
    },
    {
      "cell_type": "code",
      "execution_count": null,
      "metadata": {
        "id": "U7Ae-847eC0x"
      },
      "outputs": [],
      "source": [
        "%cd /content/drive/MyDrive/CD_train/yolov7\n",
        "\n",
        "!python train_aux.py --resume /content/drive/MyDrive/UTE2023/train/exp1/weights/last.pt --cache"
      ]
    },
    {
      "cell_type": "markdown",
      "metadata": {
        "id": "2vRyd52mejgR"
      },
      "source": [
        "#7. Inference"
      ]
    },
    {
      "cell_type": "code",
      "execution_count": null,
      "metadata": {
        "id": "iHAOgbuwSAUn"
      },
      "outputs": [],
      "source": [
        "#Nhận diện thử với weights vừa train\n",
        "%cd /content/drive/MyDrive/OD_train/yolov7\n",
        "!python detect.py --weights /content/drive/MyDrive/OD_train/exp2/weights/best.pt --source /content/drive/MyDrive/OD_train/test"
      ]
    },
    {
      "cell_type": "code",
      "execution_count": null,
      "metadata": {
        "id": "Tc97HVbOfGWg"
      },
      "outputs": [],
      "source": [
        "# Xem ảnh đã nhận diện\n",
        "from IPython.display import Image, display\n",
        "display(Image(filename=\"/content/drive/MyDrive/OD_train/yolov7/runs/detect/exp\"))"
      ]
    }
  ],
  "metadata": {
    "accelerator": "GPU",
    "colab": {
      "machine_shape": "hm",
      "provenance": []
    },
    "gpuClass": "standard",
    "kernelspec": {
      "display_name": "Python 3.10.6 64-bit",
      "language": "python",
      "name": "python3"
    },
    "language_info": {
      "name": "python",
      "version": "3.10.6"
    },
    "vscode": {
      "interpreter": {
        "hash": "3bc1a11519d29b3ed6f08646f3ece60640217e649724c6bcfd38e1173c1a1bce"
      }
    }
  },
  "nbformat": 4,
  "nbformat_minor": 0
}
