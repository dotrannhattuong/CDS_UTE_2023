{
  "cells": [
    {
      "cell_type": "code",
      "execution_count": null,
      "metadata": {
        "id": "BEAwre53eNzJ"
      },
      "outputs": [],
      "source": [
        "from google.colab import drive\n",
        "drive.mount('/content/drive')"
      ]
    },
    {
      "cell_type": "markdown",
      "metadata": {
        "id": "i1p9qSKqesQ3"
      },
      "source": [
        "###Visualize Data\n"
      ]
    },
    {
      "cell_type": "code",
      "execution_count": 3,
      "metadata": {
        "id": "8cCjevd7e4qc"
      },
      "outputs": [],
      "source": [
        "from sklearn.model_selection import train_test_split\n",
        "import glob\n",
        "import os\n",
        "from shutil import copyfile"
      ]
    },
    {
      "cell_type": "code",
      "execution_count": 1,
      "metadata": {
        "id": "NtsESNkSexJr"
      },
      "outputs": [],
      "source": [
        "import altair as alt\n",
        "import pandas as pd\n",
        "import numpy as np\n",
        "import glob"
      ]
    },
    {
      "cell_type": "code",
      "execution_count": 5,
      "metadata": {
        "colab": {
          "base_uri": "https://localhost:8080/"
        },
        "id": "uNfnmqkIfC5q",
        "outputId": "bcbafe63-ee4c-42c5-81f6-d2d69e2d56c4"
      },
      "outputs": [
        {
          "name": "stdout",
          "output_type": "stream",
          "text": [
            "     class\n",
            "0        6\n",
            "1        6\n",
            "2        6\n",
            "3        6\n",
            "4        6\n",
            "...    ...\n",
            "6439     6\n",
            "6440     6\n",
            "6441     6\n",
            "6442     6\n",
            "6443     6\n",
            "\n",
            "[6444 rows x 1 columns]\n"
          ]
        }
      ],
      "source": [
        "lst = []\n",
        "for file in glob.glob('/content/drive/MyDrive/OD_train/Dataset_OD_SelfDrivingCar/yolo_data_detect/train/labels/*.txt'):\n",
        "  with open(file, 'r') as f:\n",
        "    content = f.readlines()\n",
        "  \n",
        "  for cnt in content:\n",
        "    lst.append(cnt[0])\n",
        "\n",
        "signs = pd.DataFrame(lst, columns = ['class'])\n",
        "print(signs)"
      ]
    },
    {
      "cell_type": "code",
      "execution_count": 6,
      "metadata": {
        "colab": {
          "base_uri": "https://localhost:8080/"
        },
        "id": "me42et6dfD_u",
        "outputId": "a91d51a5-c56c-49b2-c0d0-f6e118b60718"
      },
      "outputs": [
        {
          "name": "stdout",
          "output_type": "stream",
          "text": [
            "   counts          title\n",
            "6    2145            car\n",
            "7     819        unknown\n",
            "5     657    no_straight\n",
            "8     649      turn_left\n",
            "1     594     turn_right\n",
            "4     590  no_turn_right\n",
            "3     519   no_turn_left\n",
            "2     471       straight\n"
          ]
        }
      ],
      "source": [
        "data = pd.DataFrame()\n",
        "class_name = []\n",
        "\n",
        "data['counts'] = signs['class'].value_counts()\n",
        "names = ['turn_right', 'straight', 'no_turn_left', 'no_turn_right', 'no_straight', 'car', 'unknown', 'turn_left']\n",
        "\n",
        "for i in data.index:\n",
        "  class_name.append(names[int(i)-1])\n",
        "data['title'] = class_name\n",
        "print(data)"
      ]
    },
    {
      "cell_type": "code",
      "execution_count": 7,
      "metadata": {
        "colab": {
          "base_uri": "https://localhost:8080/",
          "height": 223
        },
        "id": "lIi-QvwwfRpI",
        "outputId": "af9b4fad-1c21-4d95-b9c0-c20e46ba52a4"
      },
      "outputs": [
        {
          "data": {
            "text/html": [
              "\n",
              "<div id=\"altair-viz-123dfefc5b614e5ab43d993d00082103\"></div>\n",
              "<script type=\"text/javascript\">\n",
              "  var VEGA_DEBUG = (typeof VEGA_DEBUG == \"undefined\") ? {} : VEGA_DEBUG;\n",
              "  (function(spec, embedOpt){\n",
              "    let outputDiv = document.currentScript.previousElementSibling;\n",
              "    if (outputDiv.id !== \"altair-viz-123dfefc5b614e5ab43d993d00082103\") {\n",
              "      outputDiv = document.getElementById(\"altair-viz-123dfefc5b614e5ab43d993d00082103\");\n",
              "    }\n",
              "    const paths = {\n",
              "      \"vega\": \"https://cdn.jsdelivr.net/npm//vega@5?noext\",\n",
              "      \"vega-lib\": \"https://cdn.jsdelivr.net/npm//vega-lib?noext\",\n",
              "      \"vega-lite\": \"https://cdn.jsdelivr.net/npm//vega-lite@4.17.0?noext\",\n",
              "      \"vega-embed\": \"https://cdn.jsdelivr.net/npm//vega-embed@6?noext\",\n",
              "    };\n",
              "\n",
              "    function maybeLoadScript(lib, version) {\n",
              "      var key = `${lib.replace(\"-\", \"\")}_version`;\n",
              "      return (VEGA_DEBUG[key] == version) ?\n",
              "        Promise.resolve(paths[lib]) :\n",
              "        new Promise(function(resolve, reject) {\n",
              "          var s = document.createElement('script');\n",
              "          document.getElementsByTagName(\"head\")[0].appendChild(s);\n",
              "          s.async = true;\n",
              "          s.onload = () => {\n",
              "            VEGA_DEBUG[key] = version;\n",
              "            return resolve(paths[lib]);\n",
              "          };\n",
              "          s.onerror = () => reject(`Error loading script: ${paths[lib]}`);\n",
              "          s.src = paths[lib];\n",
              "        });\n",
              "    }\n",
              "\n",
              "    function showError(err) {\n",
              "      outputDiv.innerHTML = `<div class=\"error\" style=\"color:red;\">${err}</div>`;\n",
              "      throw err;\n",
              "    }\n",
              "\n",
              "    function displayChart(vegaEmbed) {\n",
              "      vegaEmbed(outputDiv, spec, embedOpt)\n",
              "        .catch(err => showError(`Javascript Error: ${err.message}<br>This usually means there's a typo in your chart specification. See the javascript console for the full traceback.`));\n",
              "    }\n",
              "\n",
              "    if(typeof define === \"function\" && define.amd) {\n",
              "      requirejs.config({paths});\n",
              "      require([\"vega-embed\"], displayChart, err => showError(`Error loading script: ${err.message}`));\n",
              "    } else {\n",
              "      maybeLoadScript(\"vega\", \"5\")\n",
              "        .then(() => maybeLoadScript(\"vega-lite\", \"4.17.0\"))\n",
              "        .then(() => maybeLoadScript(\"vega-embed\", \"6\"))\n",
              "        .catch(showError)\n",
              "        .then(() => displayChart(vegaEmbed));\n",
              "    }\n",
              "  })({\"config\": {\"view\": {\"continuousWidth\": 400, \"continuousHeight\": 300}}, \"data\": {\"name\": \"data-c986b1fa6556f29e142cba4be02a6f6a\"}, \"mark\": \"bar\", \"encoding\": {\"color\": {\"field\": \"title\", \"type\": \"nominal\"}, \"x\": {\"axis\": {\"title\": \"Counts\"}, \"field\": \"counts\", \"type\": \"quantitative\"}, \"y\": {\"axis\": {\"title\": \"Title\"}, \"field\": \"title\", \"sort\": {\"field\": \"counts\", \"op\": \"sum\", \"order\": \"ascending\"}, \"type\": \"nominal\"}}, \"$schema\": \"https://vega.github.io/schema/vega-lite/v4.17.0.json\", \"datasets\": {\"data-c986b1fa6556f29e142cba4be02a6f6a\": [{\"counts\": 2145, \"title\": \"car\"}, {\"counts\": 819, \"title\": \"unknown\"}, {\"counts\": 657, \"title\": \"no_straight\"}, {\"counts\": 649, \"title\": \"turn_left\"}, {\"counts\": 594, \"title\": \"turn_right\"}, {\"counts\": 590, \"title\": \"no_turn_right\"}, {\"counts\": 519, \"title\": \"no_turn_left\"}, {\"counts\": 471, \"title\": \"straight\"}]}}, {\"mode\": \"vega-lite\"});\n",
              "</script>"
            ],
            "text/plain": [
              "alt.Chart(...)"
            ]
          },
          "execution_count": 7,
          "metadata": {},
          "output_type": "execute_result"
        }
      ],
      "source": [
        "alt.Chart(data).mark_bar().encode(\n",
        "    x=alt.X('counts', axis=alt.Axis(title='Counts')),\n",
        "    y=alt.Y('title',\n",
        "        sort=alt.EncodingSortField(field='counts', order='ascending', op='sum'),\n",
        "        axis=alt.Axis(title='Title')\n",
        "    ),\n",
        "    color=alt.Color('title:N')\n",
        ")"
      ]
    }
  ],
  "metadata": {
    "colab": {
      "provenance": []
    },
    "kernelspec": {
      "display_name": "Python 3.10.6 64-bit",
      "language": "python",
      "name": "python3"
    },
    "language_info": {
      "name": "python",
      "version": "3.10.6"
    },
    "vscode": {
      "interpreter": {
        "hash": "3bc1a11519d29b3ed6f08646f3ece60640217e649724c6bcfd38e1173c1a1bce"
      }
    }
  },
  "nbformat": 4,
  "nbformat_minor": 0
}
