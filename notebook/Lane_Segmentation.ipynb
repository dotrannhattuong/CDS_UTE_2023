{
  "cells": [
    {
      "cell_type": "code",
      "execution_count": null,
      "metadata": {
        "id": "LxMZbI0lkNAO"
      },
      "outputs": [],
      "source": [
        "from google.colab import drive\n",
        "drive.mount('/content/drive')"
      ]
    },
    {
      "cell_type": "code",
      "execution_count": null,
      "metadata": {
        "id": "Yez_r92vkTB3"
      },
      "outputs": [],
      "source": [
        "!nvidia-smi"
      ]
    },
    {
      "cell_type": "markdown",
      "metadata": {
        "id": "XphYRzN_l0B2"
      },
      "source": [
        "#1. Clone Pytorch-UNet"
      ]
    },
    {
      "cell_type": "code",
      "execution_count": null,
      "metadata": {
        "id": "-dyrE3WimfrS"
      },
      "outputs": [],
      "source": [
        "%cd /content/drive/MyDrive/Lane_Segmentation\n",
        "!git clone https://github.com/milesial/Pytorch-UNet"
      ]
    },
    {
      "cell_type": "markdown",
      "metadata": {
        "id": "00YTEUHdml8i"
      },
      "source": [
        "#2. Download required packages"
      ]
    },
    {
      "cell_type": "code",
      "execution_count": null,
      "metadata": {
        "id": "59LgIJo_kVo5"
      },
      "outputs": [],
      "source": [
        "%cd /content/drive/MyDrive/Lane_Segmentation/Pytorch-UNet\n",
        "!pip install -r requirements.txt"
      ]
    },
    {
      "cell_type": "code",
      "execution_count": null,
      "metadata": {
        "id": "q4Zhne6WkXMa"
      },
      "outputs": [],
      "source": [
        "import os\n",
        "\n",
        "print(len(os.listdir('/content/drive/MyDrive/Lane_Segmentation/Dataset_Lane_Segmentation/train')))\n",
        "print(len(os.listdir('/content/drive/MyDrive/Lane_Segmentation/Dataset_Lane_Segmentation/trainanot')))\n",
        "print(len(os.listdir('/content/drive/MyDrive/Lane_Segmentation/Dataset_Lane_Segmentation/val')))\n",
        "print(len(os.listdir('/content/drive/MyDrive/Lane_Segmentation/Dataset_Lane_Segmentation/valanot')))"
      ]
    },
    {
      "cell_type": "code",
      "execution_count": null,
      "metadata": {
        "id": "6eBxlKvmkZuW"
      },
      "outputs": [],
      "source": [
        "import wandb\n",
        "print(wandb.__path__)"
      ]
    },
    {
      "cell_type": "code",
      "execution_count": null,
      "metadata": {
        "id": "sOpr3FeAkaK5"
      },
      "outputs": [],
      "source": [
        "!pip install wandb"
      ]
    },
    {
      "cell_type": "markdown",
      "metadata": {
        "id": "XUOKGTyom0Iy"
      },
      "source": [
        "#3. Clone source Data\n"
      ]
    },
    {
      "cell_type": "code",
      "execution_count": null,
      "metadata": {
        "id": "chgJB-_GkUPV"
      },
      "outputs": [],
      "source": [
        "%cd /content/drive/MyDrive/Lane_Segmentation\n",
        "!git clone https://github.com/dotrannhattuong/Dataset_Lane_Segmentation.git"
      ]
    },
    {
      "cell_type": "markdown",
      "metadata": {
        "id": "3ifYMNkgnc1H"
      },
      "source": [
        "#4. Training"
      ]
    },
    {
      "cell_type": "markdown",
      "metadata": {
        "id": "-lyyc2tfniDQ"
      },
      "source": [
        "### Fisrt training"
      ]
    },
    {
      "cell_type": "code",
      "execution_count": null,
      "metadata": {
        "id": "TGUaPSvnkbZk"
      },
      "outputs": [],
      "source": [
        "%cd /content/drive/MyDrive/Lane_Segmentation/Pytorch-UNet\n",
        "!python train.py --epochs 300 \\\n",
        "                 --batch-size 128 \\\n",
        "                 --learning-rate 0.001 \\\n",
        "                 --classes 3 \\\n",
        "                 --scale 1.0"
      ]
    },
    {
      "cell_type": "markdown",
      "metadata": {
        "id": "CmdanLYNnuB5"
      },
      "source": [
        "###Resume \n"
      ]
    },
    {
      "cell_type": "code",
      "execution_count": null,
      "metadata": {
        "id": "iX23O7CfnpBQ"
      },
      "outputs": [],
      "source": [
        "%cd /content/drive/MyDrive/Lane_Segmentation/Pytorch-UNet\n",
        "!python train.py --epochs 300 \\\n",
        "                 --batch-size 128 \\\n",
        "                 --load /content/drive/MyDrive/Lane_Segmentation/Checkpoint/checkpoint_epoch260.pth \\\n",
        "                 --learning-rate 0.001 \\\n",
        "                 --classes 3 \\\n",
        "                 --scale 1.0"
      ]
    }
  ],
  "metadata": {
    "accelerator": "GPU",
    "colab": {
      "provenance": []
    },
    "gpuClass": "standard",
    "kernelspec": {
      "display_name": "Python 3.10.6 64-bit",
      "language": "python",
      "name": "python3"
    },
    "language_info": {
      "name": "python",
      "version": "3.10.6"
    },
    "vscode": {
      "interpreter": {
        "hash": "3bc1a11519d29b3ed6f08646f3ece60640217e649724c6bcfd38e1173c1a1bce"
      }
    }
  },
  "nbformat": 4,
  "nbformat_minor": 0
}
