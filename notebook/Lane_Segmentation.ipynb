{
  "nbformat": 4,
  "nbformat_minor": 0,
  "metadata": {
    "colab": {
      "provenance": []
    },
    "kernelspec": {
      "name": "python3",
      "display_name": "Python 3"
    },
    "language_info": {
      "name": "python"
    },
    "gpuClass": "standard",
    "accelerator": "GPU"
  },
  "cells": [
    {
      "cell_type": "code",
      "execution_count": null,
      "metadata": {
        "id": "LxMZbI0lkNAO"
      },
      "outputs": [],
      "source": [
        "from google.colab import drive\n",
        "drive.mount('/content/drive')"
      ]
    },
    {
      "cell_type": "code",
      "source": [
        "!nvidia-smi"
      ],
      "metadata": {
        "id": "Yez_r92vkTB3"
      },
      "execution_count": null,
      "outputs": []
    },
    {
      "cell_type": "markdown",
      "source": [
        "#1. Clone Pytorch-UNet"
      ],
      "metadata": {
        "id": "XphYRzN_l0B2"
      }
    },
    {
      "cell_type": "code",
      "source": [
        "%cd /content/drive/MyDrive/Lane_Segmentation\n",
        "!git clone https://github.com/milesial/Pytorch-UNet"
      ],
      "metadata": {
        "id": "-dyrE3WimfrS"
      },
      "execution_count": null,
      "outputs": []
    },
    {
      "cell_type": "markdown",
      "source": [
        "#2. Download required packages"
      ],
      "metadata": {
        "id": "00YTEUHdml8i"
      }
    },
    {
      "cell_type": "code",
      "source": [
        "%cd /content/drive/MyDrive/Lane_Segmentation/Pytorch-UNet\n",
        "!pip install -r requirements.txt"
      ],
      "metadata": {
        "id": "59LgIJo_kVo5"
      },
      "execution_count": null,
      "outputs": []
    },
    {
      "cell_type": "code",
      "source": [
        "import os\n",
        "\n",
        "print(len(os.listdir('/content/drive/MyDrive/Lane_Segmentation/Dataset_Lane_Segmentation/train')))\n",
        "print(len(os.listdir('/content/drive/MyDrive/Lane_Segmentation/Dataset_Lane_Segmentation/trainanot')))\n",
        "print(len(os.listdir('/content/drive/MyDrive/Lane_Segmentation/Dataset_Lane_Segmentation/val')))\n",
        "print(len(os.listdir('/content/drive/MyDrive/Lane_Segmentation/Dataset_Lane_Segmentation/valanot')))"
      ],
      "metadata": {
        "id": "q4Zhne6WkXMa"
      },
      "execution_count": null,
      "outputs": []
    },
    {
      "cell_type": "code",
      "source": [
        "import wandb\n",
        "print(wandb.__path__)"
      ],
      "metadata": {
        "id": "6eBxlKvmkZuW"
      },
      "execution_count": null,
      "outputs": []
    },
    {
      "cell_type": "code",
      "source": [
        "!pip install wandb"
      ],
      "metadata": {
        "id": "sOpr3FeAkaK5"
      },
      "execution_count": null,
      "outputs": []
    },
    {
      "cell_type": "markdown",
      "source": [
        "#3. Clone source Data\n"
      ],
      "metadata": {
        "id": "XUOKGTyom0Iy"
      }
    },
    {
      "cell_type": "code",
      "source": [
        "%cd /content/drive/MyDrive/Lane_Segmentation\n",
        "!git clone https://github.com/dotrannhattuong/Dataset_Lane_Segmentation.git"
      ],
      "metadata": {
        "id": "chgJB-_GkUPV"
      },
      "execution_count": null,
      "outputs": []
    },
    {
      "cell_type": "markdown",
      "source": [
        "#4. Training"
      ],
      "metadata": {
        "id": "3ifYMNkgnc1H"
      }
    },
    {
      "cell_type": "markdown",
      "source": [
        "### Fisrt training"
      ],
      "metadata": {
        "id": "-lyyc2tfniDQ"
      }
    },
    {
      "cell_type": "code",
      "source": [
        "%cd /content/drive/MyDrive/Lane_Segmentation/Pytorch-UNet\n",
        "!python train.py --epochs 300 \\\n",
        "                 --batch-size 128 \\\n",
        "                 --learning-rate 0.001 \\\n",
        "                 --classes 3 \\\n",
        "                 --scale 1.0"
      ],
      "metadata": {
        "id": "TGUaPSvnkbZk"
      },
      "execution_count": null,
      "outputs": []
    },
    {
      "cell_type": "markdown",
      "source": [
        "###Resume \n"
      ],
      "metadata": {
        "id": "CmdanLYNnuB5"
      }
    },
    {
      "cell_type": "code",
      "source": [
        "%cd /content/drive/MyDrive/Lane_Segmentation/Pytorch-UNet\n",
        "!python train.py --epochs 300 \\\n",
        "                 --batch-size 128 \\\n",
        "                 --load /content/drive/MyDrive/Lane_Segmentation/Checkpoint/checkpoint_epoch260.pth \\\n",
        "                 --learning-rate 0.001 \\\n",
        "                 --classes 3 \\\n",
        "                 --scale 1.0"
      ],
      "metadata": {
        "id": "iX23O7CfnpBQ"
      },
      "execution_count": null,
      "outputs": []
    }
  ]
}